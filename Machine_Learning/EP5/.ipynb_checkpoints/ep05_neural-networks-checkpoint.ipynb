{
 "cells": [
  {
   "cell_type": "markdown",
   "metadata": {},
   "source": [
    "# 1. Load MNIST Dataset #\n",
    "\n",
    "It consists of handwritten digits, divided into $60000$ training images and $10000$ test images. All images are gray-scale (one channel with pixel intensities varying from 0 to 255) and have size $28 \\times 28$. There are 10 classes, corresponding to digits 0 to 9.\n",
    "\n",
    "The dataset is available in many places. Here we will use the one available with Keras [1]. \n",
    "More information on MNIST can be found at the [oficial site](http://yann.lecun.com/exdb/mnist/).\n",
    "\n",
    "[1]: François Chollet and others, Keras, https://keras.io, 2015"
   ]
  },
  {
   "cell_type": "code",
   "execution_count": 300,
   "metadata": {},
   "outputs": [],
   "source": [
    "from tensorflow.keras.datasets import mnist\n",
    "\n",
    "(X_train_all, y_train_all), (X_test_all, y_test) = mnist.load_data()"
   ]
  },
  {
   "cell_type": "markdown",
   "metadata": {},
   "source": [
    "# 2. Process \"Raw\" Features #\n",
    "This time we will use pixel intensities as features. The images must be flattened to vector\n",
    "format and the feature values must be scaled to the range [0,1] (as float). "
   ]
  },
  {
   "cell_type": "code",
   "execution_count": 302,
   "metadata": {},
   "outputs": [],
   "source": [
    "import numpy as np\n",
    "\n",
    "#Flatten to vector - reshape\n",
    "\n",
    "X_train_flat = X_train_all.reshape(60000,784)\n",
    "X_test_flat = X_test_all.reshape(10000,784)\n",
    "\n",
    "\n",
    "#Scale train data to range [0,1]\n",
    "X_train_scale = X_train_flat.astype('float32') / 255\n",
    "X_test_scale = X_test_flat.astype('float32') / 255\n",
    "\n",
    "X_test = X_test_scale"
   ]
  },
  {
   "cell_type": "markdown",
   "metadata": {},
   "source": [
    "# 3. Create Reduced Training Set\n",
    "\n",
    "To reduce computation time, let us create a reduced training set by randomly selecting 2000 examples of each class from the original training set. Thus our effective training set (reduced training set) will consist of 20000 examples."
   ]
  },
  {
   "cell_type": "code",
   "execution_count": 303,
   "metadata": {},
   "outputs": [],
   "source": [
    "import numpy as np\n",
    "from random import seed\n",
    "\n",
    "unique = np.unique(y_train_all) #array of unique class values (of course we know that it's 0-9)\n",
    "\n",
    "#create subsets for each class (ten in total)\n",
    "X_train_subsets = np.array([X_train_scale[y_train_all == number] for number in unique])\n",
    "y_train_subsets = np.array([y_train_all[y_train_all == number] for number in unique])\n",
    "\n",
    "#sample 2000 examples from each class\n",
    "indices = np.array([np.random.choice(X_train_subsets[number].shape[0], 2000, replace=False) \n",
    "                   for number in unique]) #get sample indexes\n",
    "\n",
    "X_train = np.array([X_train_subsets[number][indices[number]] for number in unique])\n",
    "y_train = np.array([y_train_subsets[number][indices[number]] for number in unique])\n",
    "\n",
    "#join subsets - reshape\n",
    "X_train = X_train.reshape(20000,784)\n",
    "y_train = y_train.reshape(20000,)\n",
    "\n",
    "#Shuffle samples in training set\n",
    "rng_state = np.random.get_state()\n",
    "np.random.shuffle(X_train)\n",
    "np.random.set_state(rng_state)\n",
    "np.random.shuffle(y_train)"
   ]
  },
  {
   "cell_type": "markdown",
   "metadata": {},
   "source": [
    "### Print Values\n",
    "\n",
    "Print the following properties of the sets X_train, y_train, X_test, y_test:\n",
    "* dtype\n",
    "* shape\n",
    "* minimum value\n",
    "* maximum value"
   ]
  },
  {
   "cell_type": "code",
   "execution_count": 304,
   "metadata": {},
   "outputs": [
    {
     "name": "stdout",
     "output_type": "stream",
     "text": [
      "dtypes:\n",
      "X_train: <class 'numpy.ndarray'>\n",
      "y_train: <class 'numpy.ndarray'>\n",
      "X_test: <class 'numpy.ndarray'>\n",
      "y_test: <class 'numpy.ndarray'> \n",
      "\n",
      "shapes:\n",
      "X_train: (20000, 784)\n",
      "y_train: (20000,)\n",
      "X_test: (10000, 784)\n",
      "y_test: (10000,) \n",
      "\n",
      "Minimum value X_train: 0.0\n",
      "Minimum value X_test: 0.0 \n",
      "\n",
      "Maximum value X_train: 1.0\n",
      "Maximum value X_test: 1.0 \n",
      "\n"
     ]
    }
   ],
   "source": [
    "import numpy as np\n",
    "\n",
    "#dtype\n",
    "print(\"dtypes:\")\n",
    "print(\"X_train:\", type(X_train))\n",
    "print(\"y_train:\", type(y_train))\n",
    "print(\"X_test:\", type(X_test))\n",
    "print(\"y_test:\", type(y_test), \"\\n\")\n",
    "\n",
    "#shape\n",
    "print(\"shapes:\")\n",
    "print(\"X_train:\", X_train.shape)\n",
    "print(\"y_train:\", y_train.shape)\n",
    "print(\"X_test:\", X_test.shape)\n",
    "print(\"y_test:\", y_test.shape, \"\\n\")\n",
    "\n",
    "#minimum value\n",
    "print(\"Minimum value X_train:\", np.amin(X_train))\n",
    "print(\"Minimum value X_test:\", np.amin(X_test), \"\\n\")\n",
    "\n",
    "#maximum value\n",
    "print(\"Maximum value X_train:\", np.amax(X_train))\n",
    "print(\"Maximum value X_test:\", np.amax(X_test), \"\\n\")"
   ]
  },
  {
   "cell_type": "markdown",
   "metadata": {},
   "source": [
    "### Example Images\n",
    "\n",
    "At the end of this part, randomly choose at least 3 examples from the set (X_train, y_train)\n",
    "and display the images as well as the respective class labels."
   ]
  },
  {
   "cell_type": "code",
   "execution_count": 312,
   "metadata": {
    "scrolled": true
   },
   "outputs": [
    {
     "data": {
      "image/png": "[encoded data removed]",
      "text/plain": [
       "<Figure size 648x432 with 6 Axes>"
      ]
     },
     "metadata": {
      "needs_background": "light"
     },
     "output_type": "display_data"
    }
   ],
   "source": [
    "import matplotlib.pyplot as plt\n",
    "%matplotlib inline\n",
    "\n",
    "fig, ax = plt.subplots(2, 3, figsize = (9, 6))\n",
    "\n",
    "for i in range(6):\n",
    "    index = np.random.choice(2000)\n",
    "    ax[i//3, i%3].imshow(X_train[index].reshape(28,28,), cmap='gray')\n",
    "    ax[i//3, i%3].axis('off')\n",
    "    ax[i//3, i%3].set_title(\"Class: %d\"%y_train[index])\n",
    "    \n",
    "plt.show()\n"
   ]
  },
  {
   "cell_type": "markdown",
   "metadata": {},
   "source": [
    "# 3. Model Selection\n",
    "\n",
    "A model must be chosen based on 5-fold cross-validation applied on the\n",
    "reduced training set; use stratified cross-validation. All models must be trained on the same\n",
    "set of folds.\n",
    "You should consider at least 3 different models (architectures). Among them, the one at\n",
    "https://github.com/fchollet/deep-learning-with-python-notebooks/blob/master/2.1-a-first-look-at-a-neural-network.ipynb (same architecture and whenever possible, same hyperparameters) is mandatory. The others may be networks with variations in architecture and/or hyperparameters. Fix the number of epochs for training (you may plot the learning curve to see how it is behaving and based on that choose the number of appropriate\n",
    "epochs)."
   ]
  },
  {
   "cell_type": "markdown",
   "metadata": {},
   "source": [
    "### 3.1 Choose appropriate number of epochs"
   ]
  },
  {
   "cell_type": "code",
   "execution_count": 390,
   "metadata": {},
   "outputs": [
    {
     "name": "stdout",
     "output_type": "stream",
     "text": [
      "Training set score: 0.975300\n",
      "Training set loss: 0.099576\n"
     ]
    },
    {
     "data": {
      "image/png": "[encoded data removed]",
      "text/plain": [
       "<Figure size 864x576 with 1 Axes>"
      ]
     },
     "metadata": {},
     "output_type": "display_data"
    }
   ],
   "source": [
    "from sklearn.neural_network import MLPClassifier #multi-layer perceptron classifier\n",
    "import matplotlib.pyplot as plt\n",
    "\n",
    "#Initializing the MLPClassifiers\n",
    "#sgd solver: stochastic gradient descent\n",
    "#default learning rate is 0.001\n",
    "#max_iter: For stochastic solvers (‘sgd’, ‘adam’), note that this determines the number of epochs \n",
    "#(how many times each data point will be used), not the number of gradient steps.\n",
    "#verbose: Whether to print progress messages to stdout.\n",
    "\n",
    "\n",
    "#Choose best number of epochs\n",
    "mlp1 = MLPClassifier(hidden_layer_sizes=(512,), max_iter = 150, activation = 'relu',\n",
    "                    solver='sgd',batch_size = 128, random_state=1, verbose = 0)\n",
    "\n",
    "mlp1.fit(X_train, y_train)\n",
    "\n",
    "\n",
    "print(\"Training set score: %f\" % mlp1.score(X_train, y_train))\n",
    "print(\"Training set loss: %f\" % mlp1.loss_)\n",
    "\n",
    "#Plot loss curve\n",
    "plt.figure(figsize = (12, 8))\n",
    "plt.plot(mlp1.loss_curve_)\n",
    "plt.xlabel('Epoch')\n",
    "plt.ylabel('Loss')\n",
    "plt.show()"
   ]
  },
  {
   "cell_type": "markdown",
   "metadata": {},
   "source": [
    "## Number of epochs\n",
    "The loss seems to continue decaying as I increase the number of epochs. But, due to long run time, I'm going to used 50 epochs (which still takes some time to run)."
   ]
  },
  {
   "cell_type": "markdown",
   "metadata": {},
   "source": [
    "### 3.2 Model selection"
   ]
  },
  {
   "cell_type": "code",
   "execution_count": 392,
   "metadata": {},
   "outputs": [
    {
     "name": "stdout",
     "output_type": "stream",
     "text": [
      "mlp1 Accuracy of Folds: [0.92375 0.92675 0.92375 0.9175  0.928  ]\n",
      "mlp1 Final (mean) Score: 0.9239499999999999 \n",
      "\n",
      "mlp2 Accuracy of Folds: [0.8785  0.872   0.8795  0.872   0.87075]\n",
      "mlp2 Final (mean) Score: 0.8745499999999999 \n",
      "\n",
      "mlp3 Accuracy of Folds: [0.96425 0.9655  0.965   0.95875 0.9635 ]\n",
      "mlp3 Final (mean) Score: 0.9634 \n",
      "\n",
      "mlp4 Accuracy of Folds: [0.93875 0.942   0.93975 0.932   0.9405 ]\n",
      "mlp4 Final (mean) Score: 0.9385999999999999 \n",
      "\n"
     ]
    }
   ],
   "source": [
    "from sklearn.neural_network import MLPClassifier #multi-layer perceptron classifier\n",
    "from sklearn.model_selection import StratifiedKFold\n",
    "from sklearn.model_selection import cross_validate\n",
    "from sklearn.exceptions import ConvergenceWarning\n",
    "import numpy as np\n",
    "\n",
    "#Initializing the MLPClassifiers\n",
    "#sgd solver: stochastic gradient descent\n",
    "#default learning rate is 0.001\n",
    "#max_iter: For stochastic solvers (‘sgd’, ‘adam’), note that this determines the number of epochs \n",
    "#(how many times each data point will be used), not the number of gradient steps.\n",
    "#verbose: Whether to print progress messages to stdout.\n",
    "\n",
    "#3 different models\n",
    "models = [\n",
    "            (\"mlp1\", MLPClassifier(hidden_layer_sizes=(512,), max_iter=50, activation = 'relu',\n",
    "                    solver='sgd', batch_size = 128, random_state=1, verbose = 0)),\n",
    "            (\"mlp2\", MLPClassifier(hidden_layer_sizes=(512,), max_iter=50, activation = 'logistic',\n",
    "                    solver='sgd', batch_size = 128, random_state=1, verbose = 0)), #logistic activation\n",
    "            (\"mlp3\", MLPClassifier(hidden_layer_sizes=(512,), max_iter=50, learning_rate_init = 0.01, \n",
    "                    activation = 'relu', solver='sgd', batch_size = 128, random_state=1, verbose = 0)), #larger learning rate\n",
    "            (\"mlp4\", MLPClassifier(hidden_layer_sizes=(512, 200,), max_iter=50, activation = 'relu', \n",
    "                    solver='sgd', batch_size = 128, random_state=1, verbose = 0)) #another hidden layer\n",
    "    \n",
    "        ]\n",
    "\n",
    "\n",
    "# 5-fold cross-validation for each model\n",
    "for name, model in models:\n",
    "        warnings.filterwarnings(\"ignore\", category=ConvergenceWarning, module=\"sklearn\")\n",
    "        kfold = StratifiedKFold(n_splits=5, shuffle = True, random_state = 1) #same at each iteration\n",
    "        cv_results = cross_validate(model, X_train, y_train, cv=kfold, scoring=\"accuracy\")\n",
    "        print(name, \"Accuracy of Folds:\", cv_results['test_score'])\n",
    "        print(name, \"Final (mean) Score:\", np.mean(cv_results['test_score']), \"\\n\")\n",
    "\n",
    "\n",
    "       "
   ]
  },
  {
   "cell_type": "markdown",
   "metadata": {},
   "source": [
    "## Selected Model\n",
    "mlp3 (implemented with larger learning rate) has better accuracy than the other models. I'll be doing the last part of the exercise with this model."
   ]
  },
  {
   "cell_type": "markdown",
   "metadata": {},
   "source": [
    "# 4. Selected Model Evaluation\n",
    "\n",
    "After model selection, train again the selected model, now using the entire reduced training set, to get the final model. (Note that here there is no validation step)\n",
    "Test the final model on the test set.\n",
    "\n",
    "* Plot the learning curve of the selected model (when retraining on X train).\n",
    "* Print the number of examples of each class in the test set.\n",
    "* Plot the confusion matrix with respect to the test set."
   ]
  },
  {
   "cell_type": "code",
   "execution_count": 398,
   "metadata": {},
   "outputs": [
    {
     "data": {
      "image/png": "[encoded data removed]",
      "text/plain": [
       "<Figure size 864x576 with 1 Axes>"
      ]
     },
     "metadata": {},
     "output_type": "display_data"
    },
    {
     "name": "stdout",
     "output_type": "stream",
     "text": [
      "Class count in test set: \n",
      "\n",
      "class 0 : 980\n",
      "class 1 : 1135\n",
      "class 2 : 1032\n",
      "class 3 : 1010\n",
      "class 4 : 982\n",
      "class 5 : 892\n",
      "class 6 : 958\n",
      "class 7 : 1028\n",
      "class 8 : 974\n",
      "class 9 : 1009\n",
      "\n",
      "\n",
      "Classification Report: \n",
      " \n",
      "               precision    recall  f1-score   support\n",
      "\n",
      "     class 0       0.97      0.99      0.98       980\n",
      "     class 1       0.99      0.99      0.99      1135\n",
      "     class 2       0.97      0.97      0.97      1032\n",
      "     class 3       0.97      0.98      0.97      1010\n",
      "     class 4       0.97      0.97      0.97       982\n",
      "     class 5       0.97      0.97      0.97       892\n",
      "     class 6       0.97      0.97      0.97       958\n",
      "     class 7       0.97      0.96      0.97      1028\n",
      "     class 8       0.97      0.96      0.97       974\n",
      "     class 9       0.96      0.95      0.96      1009\n",
      "\n",
      "    accuracy                           0.97     10000\n",
      "   macro avg       0.97      0.97      0.97     10000\n",
      "weighted avg       0.97      0.97      0.97     10000\n",
      " \n",
      "\n",
      "Confusion matrix: \n",
      " \n",
      " [[ 966    0    2    2    0    0    6    1    2    1]\n",
      " [   0 1119    3    1    0    1    5    1    5    0]\n",
      " [   6    1  996    4    5    0    4    9    6    1]\n",
      " [   0    0    4  989    0    5    0    4    4    4]\n",
      " [   2    0    4    0  955    1    4    1    1   14]\n",
      " [   6    1    0    6    2  861    7    1    6    2]\n",
      " [   6    4    2    1    6    7  931    0    1    0]\n",
      " [   1    5   14    5    0    0    0  992    1   10]\n",
      " [   5    1    3    7    3    7    3    7  935    3]\n",
      " [   4    4    2    9   17    3    1    8    0  961]]\n"
     ]
    }
   ],
   "source": [
    "from sklearn.neural_network import MLPClassifier #multi-layer perceptron classifier\n",
    "from sklearn.exceptions import ConvergenceWarning\n",
    "import numpy as np\n",
    "from sklearn.metrics import classification_report\n",
    "from sklearn.metrics import confusion_matrix\n",
    "\n",
    "#selected model\n",
    "mlp = MLPClassifier(hidden_layer_sizes=(512,), max_iter=50, learning_rate_init = 0.01, \n",
    "                    activation = 'relu', solver='sgd', batch_size = 128, random_state=1, verbose = 0)\n",
    "\n",
    "warnings.filterwarnings(\"ignore\", category=ConvergenceWarning, module=\"sklearn\")\n",
    "mlp.fit(X_train, y_train)\n",
    "\n",
    "#Plot loss curve (retraining on X_train)\n",
    "plt.figure(figsize = (12, 8))\n",
    "plt.plot(mlp.loss_curve_)\n",
    "plt.xlabel('Epoch')\n",
    "plt.ylabel('Loss')\n",
    "plt.show()\n",
    "\n",
    "#print number of examples of each class in the test set\n",
    "target_names = [\"class 0\", \"class 1\", \"class 2\", \"class 3\", \"class 4\", \"class 5\", \"class 6\", \"class 7\", \"class 8\", \"class 9\"]\n",
    "unique, counts = np.unique(y_test, return_counts=True)\n",
    "\n",
    "print(\"Class count in test set: \\n\")\n",
    "for number in range(10):\n",
    "    print(target_names[number],\":\", counts[number])\n",
    "print(\"\\n\")\n",
    "\n",
    "#Plot the confusion matrix with respect to the test set\n",
    "y_pred = mlp.predict(X_test) #predict classes\n",
    "\n",
    "\n",
    "print(\"Classification Report: \\n \\n\",classification_report(y_test, y_pred, target_names=target_names), \"\\n\")\n",
    "print(\"Confusion matrix: \\n \\n\",confusion_matrix(y_test, y_pred, labels=range(10)))"
   ]
  },
  {
   "cell_type": "markdown",
   "metadata": {},
   "source": [
    "The selected model has an accuracy of 97% on the test data."
   ]
  }
 ],
 "metadata": {
  "kernelspec": {
   "display_name": "Python 3",
   "language": "python",
   "name": "python3"
  },
  "language_info": {
   "codemirror_mode": {
    "name": "ipython",
    "version": 3
   },
   "file_extension": ".py",
   "mimetype": "text/x-python",
   "name": "python",
   "nbconvert_exporter": "python",
   "pygments_lexer": "ipython3",
   "version": "3.7.6"
  }
 },
 "nbformat": 4,
 "nbformat_minor": 4
}
