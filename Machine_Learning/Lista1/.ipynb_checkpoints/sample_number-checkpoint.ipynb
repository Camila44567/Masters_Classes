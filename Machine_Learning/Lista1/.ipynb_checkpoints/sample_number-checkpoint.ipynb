{
 "cells": [
  {
   "cell_type": "markdown",
   "metadata": {},
   "source": [
    "## - 18. According to the VC inequality, how can we calculate the necessary number of samples to guarantee a certain precision, with probability 0.9, for example?\n",
    "\n",
    "The sample complexity denotes how many training examples $N$ are needed to achience a certain generalization performance, which is specified by two parameters: $\\epsilon$ and $\\delta$. The tolerance error $\\epsilon$ determines the allowed generalization error and the confidence paramter $\\delta$ determines how often the error tolerance $\\epsilon$ is violated. Observing how fast $N$ grows as $\\epsilon$ and $\\delta$ become smaller shows us how much data is needed to get good generalization.\n",
    "\n",
    "We can estimate the sample complexity using the VC bound:\n",
    "\n",
    "\\begin{align} \\label{eq:samp1}\n",
    "    N \\geq \\frac{8}{\\epsilon^2}\\ln \\left(\\frac{4m_{\\mathcal{H}}(2N)}{\\delta}\\right)\n",
    "\\end{align}\n",
    "\n",
    "Replacing the growth function by its polynomial upper bound (based on the VC dimension) in the above equation we get:\n",
    "\n",
    "\\begin{align} \\label{eq:samp2}\n",
    "    N \\geq \\frac{8}{\\epsilon^2}\\ln \\left(\\frac{4((2N)^{d_{\\text{VC}}}+1)}{\\delta}\\right).\n",
    "\\end{align}\n",
    "\n",
    "Both bounds are implicit, because $N$ appears on both sides of the inequality. For this reason, iterative methods are used to obtain numerical values for $N$. \n",
    "\n",
    "With a probability of 0.9, we have the confidence parameter $\\delta = 0.1$. We would also need to consider the VC dimension of the learning model and a certain tolerance error $\\epsilon$. Using the second inequality, we calculate the RHS with these values, starting with an initial guess for $N$. Using the value obtained on the RHS as the new $N$, we recalculate the RHS iteratively until it converges to the final value. \n",
    "\n",
    "Let's try out this iterative algorithm: I calculate $N$ using the values seen in the script and plot the values of $N$ at each iteration. $N$ converges to approximately 40,000."
   ]
  },
  {
   "cell_type": "code",
   "execution_count": 49,
   "metadata": {},
   "outputs": [
    {
     "name": "stdout",
     "output_type": "stream",
     "text": [
      "Final N: 38997.155277614496\n"
     ]
    },
    {
     "data": {
      "image/png": "[encoded data removed]",
      "text/plain": [
       "<Figure size 432x288 with 1 Axes>"
      ]
     },
     "metadata": {
      "needs_background": "light"
     },
     "output_type": "display_data"
    }
   ],
   "source": [
    "import numpy as np\n",
    "import matplotlib.pyplot as plt\n",
    "\n",
    "\n",
    "delta = 0.1 #confidence parameter considering P = 0.9\n",
    "epsilon = 0.1 #tolerance error\n",
    "d_vc = 4 #VC dimension\n",
    "iterations = 10 #number of iterations\n",
    "Ns = np.empty(iterations+1) #Array to recieve values of N throughout all iterations\n",
    "Ns[0] = 1000 #this will be our initial guess for N\n",
    "#Iteratively calculate N\n",
    "for i in range(1,iterations+1):\n",
    "    Ns[i] = (8/(epsilon**2))*np.log((4*(((2*Ns[i-1])**d_vc)+1))/delta)\n",
    "\n",
    "print(\"Final N:\", Ns[10])\n",
    "x = np.arange(11)\n",
    "plt.scatter(x, Ns)\n",
    "plt.xlabel(\"Iteration\")\n",
    "plt.ylabel(\"N (sample complexity)\")\n",
    "plt.show()"
   ]
  }
 ],
 "metadata": {
  "kernelspec": {
   "display_name": "Python 3",
   "language": "python",
   "name": "python3"
  },
  "language_info": {
   "codemirror_mode": {
    "name": "ipython",
    "version": 3
   },
   "file_extension": ".py",
   "mimetype": "text/x-python",
   "name": "python",
   "nbconvert_exporter": "python",
   "pygments_lexer": "ipython3",
   "version": "3.7.6"
  }
 },
 "nbformat": 4,
 "nbformat_minor": 4
}
