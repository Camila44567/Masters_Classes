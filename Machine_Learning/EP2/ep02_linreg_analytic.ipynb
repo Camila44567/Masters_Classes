{
 "cells": [
  {
   "cell_type": "markdown",
   "metadata": {},
   "source": [
    "# MAC0460 / MAC5832 (2020)\n",
    "<hr>\n",
    "\n",
    "## EP2: linear regression, analytic solution\n",
    "\n",
    "### Goals:\n",
    "\n",
    "- to implement and test the analytic solution for the linear regression task (see, for instance, <a href=\"http://work.caltech.edu/slides/slides03.pdf\">Slides of Lecture 03</a> and Lecture 03 of *Learning from Data*)\n",
    "- to understand the core idea (*optimization of a loss or cost function*) for parameter adjustment in machine learning\n",
    "\n",
    "This notebook makes use of additional auxiliary functions in <t>util/</t>\n",
    "<hr>"
   ]
  },
  {
   "cell_type": "markdown",
   "metadata": {},
   "source": [
    "# Linear regression\n",
    "\n",
    "Given a dataset $\\{(\\mathbf{x}^{(1)}, y^{(1)}), \\dots ,(\\mathbf{x}^{(N)}, y^{(N)})\\}$ with $\\mathbf{x}^{(i)} \\in \\mathbb{R}^{d}$ and $y^{(i)} \\in \\mathbb{R}$, we would like to approximate the unknown function $f:\\mathbb{R}^{d} \\rightarrow \\mathbb{R}$ (recall that $y^{(i)} =f(\\mathbf{x}^{(i)})$) by means of a linear model $h$:\n",
    "$$\n",
    "h(\\mathbf{x}^{(i)}; \\mathbf{w}, b) = \\mathbf{w}^\\top  \\mathbf{x}^{(i)} + b\n",
    "$$\n",
    "\n",
    "Note that $h(\\mathbf{x}^{(i)}; \\mathbf{w}, b)$ is, in fact, an  [affine transformation](https://en.wikipedia.org/wiki/Affine_transformation) of  $\\mathbf{x}^{(i)}$. As commonly done, we will use the term \"linear\" to refer to an affine transformation.\n",
    "\n",
    "The output of $h$ is a linear transformation of $\\mathbf{x}^{(i)}$. We use the notation $h(\\mathbf{x}^{(i)}; \\mathbf{w}, b)$ to make clear that $h$ is a parametric model, i.e., the transformation $h$ is defined  by the parameters $\\mathbf{w}$ and $b$. We can view vector $\\mathbf{w}$ as a *weight* vector that controls the effect of each *feature* in the prediction.\n",
    "\n",
    "By adding one component with value equal to 1 to the observations $\\mathbf{x}^{(i)}$ -- artificial coordinate -- we can simplify the notation:\n",
    "\n",
    "$$\n",
    "h(\\mathbf{x}^{(i)}; \\mathbf{w}) = \\hat{y}^{(i)} = \\mathbf{w}^\\top  \\mathbf{x}^{(i)}\n",
    "$$\n",
    "\n",
    "We would like to determine the optimal parameters $\\mathbf{w}$ such that prediction $\\hat{y}^{(i)}$ is as closest as possible to $y^{(i)}$ according to some error metric. Adopting the *mean square error* as such metric we have the following cost function:\n",
    "\n",
    "\\begin{equation}\n",
    "J(\\mathbf{w}) = \\frac{1}{N}\\sum_{i=1}^{N}\\big(\\hat{y}^{(i)} - y^{(i)}\\big)^{2}\n",
    "\\end{equation}\n",
    "\n",
    "Thus, the task of determining a function $h$ that is closest to $f$ is reduced to the task of finding the values $\\mathbf{w}$ that minimizes $J(\\mathbf{w})$.\n",
    "\n",
    "**Now we will explore this model, starting with a simple dataset.**\n"
   ]
  },
  {
   "cell_type": "markdown",
   "metadata": {},
   "source": [
    "### Import auxiliary functions"
   ]
  },
  {
   "cell_type": "code",
   "execution_count": 11,
   "metadata": {},
   "outputs": [],
   "source": [
    "# all imports\n",
    "import numpy as np\n",
    "import time\n",
    "from util.util import get_housing_prices_data, r_squared\n",
    "from util.plots import plot_points_regression \n",
    "\n",
    "%matplotlib inline"
   ]
  },
  {
   "cell_type": "markdown",
   "metadata": {},
   "source": [
    "### The dataset \n",
    "\n",
    "The first dataset we will use is a toy dataset. We will generate $N=100$ observations with only one *feature* and a real value associated to each of them. We can view these observations as being pairs *(area of a real state in square meters, price of the real state)*. Our task is to construct a model that is able to predict the price of a real state, given its area."
   ]
  },
  {
   "cell_type": "code",
   "execution_count": 12,
   "metadata": {},
   "outputs": [
    {
     "name": "stdout",
     "output_type": "stream",
     "text": [
      "\n",
      "X shape = (100, 1)\n",
      "\n",
      "y shape = (100, 1)\n",
      "\n",
      "X:\n",
      "mean 645.0, sdt 323.65, max 1200.0, min 90.0\n",
      "\n",
      "y:\n",
      "mean 43653.7265625, sdt 15630.70, max 74792.609375, min 11610.04296875\n"
     ]
    }
   ],
   "source": [
    "X, y = get_housing_prices_data(N=100)"
   ]
  },
  {
   "cell_type": "markdown",
   "metadata": {},
   "source": [
    "### Ploting the data"
   ]
  },
  {
   "cell_type": "code",
   "execution_count": 13,
   "metadata": {},
   "outputs": [
    {
     "data": {
      "image/png": "[encoded data removed]",
      "text/plain": [
       "<Figure size 576x576 with 1 Axes>"
      ]
     },
     "metadata": {
      "needs_background": "light"
     },
     "output_type": "display_data"
    }
   ],
   "source": [
    "plot_points_regression(X,\n",
    "                       y,\n",
    "                       title='Real estate prices prediction',\n",
    "                       xlabel=\"m\\u00b2\",\n",
    "                       ylabel='$')"
   ]
  },
  {
   "cell_type": "markdown",
   "metadata": {},
   "source": [
    "### The solution\n",
    "\n",
    "Given $f:\\mathbb{R}^{N\\times d} \\rightarrow \\mathbb{R}$ and $\\mathbf{A} \\in \\mathbb{R}^{N\\times d}$, we define the gradient of $f$ with respect to $\\mathbf{A}$ as:\n",
    "\n",
    "\\begin{equation*}\n",
    "\\nabla_{\\mathbf{A}}f = \\frac{\\partial f}{\\partial \\mathbf{A}} =  \\begin{bmatrix}\n",
    "\\frac{\\partial f}{\\partial \\mathbf{A}_{1,1}} & \\dots & \\frac{\\partial f}{\\partial \\mathbf{A}_{1,m}} \\\\\n",
    "\\vdots &  \\ddots & \\vdots \\\\\n",
    "\\frac{\\partial f}{\\partial \\mathbf{A}_{n,1}} &  \\dots & \\frac{\\partial f}{\\partial \\mathbf{A}_{n,m}}\n",
    "\\end{bmatrix}\n",
    "\\end{equation*}\n",
    "\n",
    "Let $\\mathbf{X} \\in \\mathbb{R}^{N\\times d}$ be a matrix whose rows are the observations of the dataset (sometimes also called the *design matrix*) and let $\\mathbf{y} \\in \\mathbb{R}^{N}$ be the vector consisting of all values of $y^{(i)}$ (i.e., $\\mathbf{X}^{(i,:)} = \\mathbf{x}^{(i)}$ and $\\mathbf{y}^{(i)} = y^{(i)}$). It can be verified that: \n",
    "\n",
    "\\begin{equation}\n",
    "J(\\mathbf{w}) = \\frac{1}{N}(\\mathbf{X}\\mathbf{w} - \\mathbf{y})^{T}(\\mathbf{X}\\mathbf{w} - \\mathbf{y})\n",
    "\\end{equation}\n",
    "\n",
    "Using basic matrix derivative concepts we can compute the gradient of $J(\\mathbf{w})$ with respect to $\\mathbf{w}$:\n",
    "\n",
    "\\begin{equation}\n",
    "\\nabla_{\\mathbf{w}}J(\\mathbf{w}) = \\frac{2}{N} (\\mathbf{X}^{T}\\mathbf{X}\\mathbf{w} -\\mathbf{X}^{T}\\mathbf{y})   \n",
    "\\end{equation}\n",
    "\n",
    "Thus, when $\\nabla_{\\mathbf{w}}J(\\mathbf{w}) = 0$ we have \n",
    "\n",
    "\\begin{equation}\n",
    "\\mathbf{X}^{T}\\mathbf{X}\\mathbf{w} = \\mathbf{X}^{T}\\mathbf{y}\n",
    "\\end{equation}\n",
    "\n",
    "Hence,\n",
    "\n",
    "\\begin{equation}\n",
    "\\mathbf{w} = (\\mathbf{X}^{T}\\mathbf{X})^{-1}\\mathbf{X}^{T}\\mathbf{y}\n",
    "\\end{equation}\n",
    "\n",
    "Note that this solution has a high computational cost. As the number of variables (*features*) increases, the cost for matrix inversion becomes prohibitive. See  [this text](http://cs229.stanford.edu/notes/cs229-notes1.pdf) for more details."
   ]
  },
  {
   "cell_type": "markdown",
   "metadata": {},
   "source": [
    "## Exercise 1\n",
    "Using only **NumPy** (a quick introduction to this library can be found  [here](http://cs231n.github.io/python-numpy-tutorial/)), complete the two functions below. Recall that $\\mathbf{X} \\in \\mathbb{R}^{N\\times d}$; thus you will need to add a component of value 1 to each of  the observations in $\\mathbf{X}$ before performing the computation described above.\n",
    "\n",
    "NOTE: Although the dataset above has data of dimension $d=1$, your code must be generic (it should work for $d\\geq1$)"
   ]
  },
  {
   "cell_type": "code",
   "execution_count": 14,
   "metadata": {},
   "outputs": [],
   "source": [
    "def normal_equation_weights(X, y):\n",
    "    \"\"\"\n",
    "    Calculates the weights of a linear function using the normal equation method.\n",
    "    You should add into X a new column with 1s.\n",
    "\n",
    "    :param X: design matrix\n",
    "    :type X: np.ndarray(shape=(N, d))\n",
    "    :param y: regression targets\n",
    "    :type y: np.ndarray(shape=(N, 1))\n",
    "    :return: weight vector\n",
    "    :rtype: np.ndarray(shape=(d+1, 1))\n",
    "    \"\"\"\n",
    "    \n",
    "    # START OF YOUR CODE:\n",
    "    import numpy as np\n",
    "    np.set_printoptions(suppress=True)\n",
    "    \n",
    "    #Add column of 1s to beginning of X\n",
    "    ones = np.zeros((X.shape[0],1)) + 1\n",
    "    X = np.append(ones, X, axis = 1)\n",
    "    \n",
    "    # w = (X^T.X)^⁻1.X^T.y\n",
    "    w = np.dot(np.linalg.inv(np.dot(X.T, X)),np.dot(X.T, y)) \n",
    "    \n",
    "    # END YOUR CODE\n",
    "\n",
    "    return w"
   ]
  },
  {
   "cell_type": "code",
   "execution_count": 15,
   "metadata": {},
   "outputs": [
    {
     "name": "stdout",
     "output_type": "stream",
     "text": [
      "Estimated w =  [[13606.85336003]\n",
      " [   46.58429928]]\n"
     ]
    }
   ],
   "source": [
    "# test of function normal_equation_weights()\n",
    "w = 0\n",
    "w = normal_equation_weights(X, y)\n",
    "print(\"Estimated w = \", w)"
   ]
  },
  {
   "cell_type": "code",
   "execution_count": 16,
   "metadata": {},
   "outputs": [],
   "source": [
    "def normal_equation_prediction(X, w):\n",
    "    \"\"\"\n",
    "    Calculates the prediction over a set of observations X using the linear function\n",
    "    characterized by the weight vector w.\n",
    "    You should add into X a new column with 1s.\n",
    "\n",
    "    :param X: design matrix\n",
    "    :type X: np.ndarray(shape=(N, d))\n",
    "    :param w: weight vector\n",
    "    :type w: np.ndarray(shape=(d+1, 1))\n",
    "    :param y: regression prediction\n",
    "    :type y: np.ndarray(shape=(N, 1))\n",
    "    \"\"\"\n",
    "    \n",
    "    # START OF YOUR CODE:\n",
    "    import numpy as np\n",
    "    np.set_printoptions(suppress=True)\n",
    "    \n",
    "    #Add column of 1s to beginning of X\n",
    "    ones = np.zeros((X.shape[0],1)) + 1\n",
    "    X = np.append(ones, X, axis = 1)\n",
    "    \n",
    "    # h(x(i);w) = ŷ(i) = w^Tx(i)    \n",
    "    prediction = np.dot(w.T, X.T)\n",
    "\n",
    "    # END YOUR CODE\n",
    "    \n",
    "    return prediction.T"
   ]
  },
  {
   "cell_type": "markdown",
   "metadata": {},
   "source": [
    "\n",
    "You can use the [$R^2$](https://pt.wikipedia.org/wiki/R%C2%B2) metric to evaluate how well the linear model fits the data.\n",
    "\n",
    "**It is expected that $𝑅^2$ is a value close to 0.5.**"
   ]
  },
  {
   "cell_type": "code",
   "execution_count": 17,
   "metadata": {},
   "outputs": [
    {
     "data": {
      "image/png": "[encoded data removed]",
      "text/plain": [
       "<Figure size 576x576 with 1 Axes>"
      ]
     },
     "metadata": {
      "needs_background": "light"
     },
     "output_type": "display_data"
    }
   ],
   "source": [
    "# test of function normal_equation_prediction()\n",
    "prediction = normal_equation_prediction(X, w)\n",
    "\n",
    "r_2 = r_squared(y, prediction)\n",
    "plot_points_regression(X,\n",
    "                       y,\n",
    "                       title='Real estate prices prediction',\n",
    "                       xlabel=\"m\\u00b2\",\n",
    "                       ylabel='$',\n",
    "                       prediction=prediction,\n",
    "                       legend=True,\n",
    "                       r_squared=r_2)\n"
   ]
  },
  {
   "cell_type": "markdown",
   "metadata": {},
   "source": [
    "## Additional tests\n",
    "\n",
    "Let us compute a prediction for $x=650$\n"
   ]
  },
  {
   "cell_type": "code",
   "execution_count": 18,
   "metadata": {},
   "outputs": [
    {
     "name": "stdout",
     "output_type": "stream",
     "text": [
      "Area = 650.00  Predicted price = 43886.6479\n",
      "Area = 650.00  Predicted price = 43886.6479\n"
     ]
    }
   ],
   "source": [
    "# Let us use the prediction function\n",
    "x = np.asarray([650]).reshape(1,1)\n",
    "prediction = normal_equation_prediction(x, w)\n",
    "print(\"Area = %.2f  Predicted price = %.4f\" %(x[0], prediction))\n",
    "\n",
    "# another way of computing the same\n",
    "y = np.dot(np.asarray((1,x)), w)\n",
    "print(\"Area = %.2f  Predicted price = %.4f\" %(x, y))\n"
   ]
  },
  {
   "cell_type": "markdown",
   "metadata": {},
   "source": [
    "## Exercise 2: Effect of the number of samples\n",
    "\n",
    "Change the number of samples $N$ and observe how processing time varies."
   ]
  },
  {
   "cell_type": "code",
   "execution_count": 34,
   "metadata": {},
   "outputs": [
    {
     "name": "stdout",
     "output_type": "stream",
     "text": [
      "\n",
      "X shape = (100, 1)\n",
      "\n",
      "y shape = (100, 1)\n",
      "\n",
      "X:\n",
      "mean 645.0, sdt 323.65, max 1200.0, min 90.0\n",
      "\n",
      "y:\n",
      "mean 44426.78125, sdt 16100.29, max 72744.1015625, min 16252.205078125\n",
      "\n",
      "X shape = (1000, 1)\n",
      "\n",
      "y shape = (1000, 1)\n",
      "\n",
      "X:\n",
      "mean 645.0, sdt 320.75, max 1200.0, min 90.0\n",
      "\n",
      "y:\n",
      "mean 44321.046875, sdt 16441.92, max 79481.90625, min 10471.2802734375\n",
      "\n",
      "X shape = (10000, 1)\n",
      "\n",
      "y shape = (10000, 1)\n",
      "\n",
      "X:\n",
      "mean 645.0000610351562, sdt 320.46, max 1200.0, min 90.0\n",
      "\n",
      "y:\n",
      "mean 44170.53515625, sdt 16462.54, max 82249.015625, min 1743.379638671875\n",
      "\n",
      "X shape = (100000, 1)\n",
      "\n",
      "y shape = (100000, 1)\n",
      "\n",
      "X:\n",
      "mean 645.0000610351562, sdt 320.43, max 1200.0, min 90.0\n",
      "\n",
      "y:\n",
      "mean 44267.8984375, sdt 16509.89, max 84655.125, min 3308.99609375\n",
      "\n",
      "X shape = (200000, 1)\n",
      "\n",
      "y shape = (200000, 1)\n",
      "\n",
      "X:\n",
      "mean 645.0000610351562, sdt 320.43, max 1200.0, min 90.0\n",
      "\n",
      "y:\n",
      "mean 44239.85546875, sdt 16498.21, max 86877.296875, min 2887.03271484375\n",
      "\n",
      "X shape = (300000, 1)\n",
      "\n",
      "y shape = (300000, 1)\n",
      "\n",
      "X:\n",
      "mean 645.0000610351562, sdt 320.43, max 1200.0, min 90.0\n",
      "\n",
      "y:\n",
      "mean 44261.421875, sdt 16511.83, max 85147.8046875, min 840.5812377929688\n",
      "\n",
      "X shape = (400000, 1)\n",
      "\n",
      "y shape = (400000, 1)\n",
      "\n",
      "X:\n",
      "mean 645.0, sdt 320.43, max 1200.0, min 90.0\n",
      "\n",
      "y:\n",
      "mean 44249.578125, sdt 16504.00, max 87140.5390625, min 2579.64208984375\n",
      "\n",
      "X shape = (500000, 1)\n",
      "\n",
      "y shape = (500000, 1)\n",
      "\n",
      "X:\n",
      "mean 645.0, sdt 320.43, max 1200.0, min 90.0\n",
      "\n",
      "y:\n",
      "mean 44246.65234375, sdt 16515.82, max 88161.2734375, min 710.5638427734375\n",
      "\n",
      "X shape = (600000, 1)\n",
      "\n",
      "y shape = (600000, 1)\n",
      "\n",
      "X:\n",
      "mean 645.0000610351562, sdt 320.43, max 1200.0, min 90.0\n",
      "\n",
      "y:\n",
      "mean 44250.8125, sdt 16514.76, max 89391.1640625, min 1853.5384521484375\n",
      "\n",
      "X shape = (700000, 1)\n",
      "\n",
      "y shape = (700000, 1)\n",
      "\n",
      "X:\n",
      "mean 645.0001220703125, sdt 320.43, max 1200.0, min 90.0\n",
      "\n",
      "y:\n",
      "mean 44247.8984375, sdt 16514.05, max 86801.9921875, min 2746.05078125\n",
      "\n",
      "X shape = (800000, 1)\n",
      "\n",
      "y shape = (800000, 1)\n",
      "\n",
      "X:\n",
      "mean 645.0, sdt 320.43, max 1200.0, min 90.0\n",
      "\n",
      "y:\n",
      "mean 44252.8671875, sdt 16513.22, max 87573.8046875, min 449.3097229003906\n",
      "\n",
      "X shape = (900000, 1)\n",
      "\n",
      "y shape = (900000, 1)\n",
      "\n",
      "X:\n",
      "mean 645.0000610351562, sdt 320.43, max 1200.0, min 90.0\n",
      "\n",
      "y:\n",
      "mean 44250.09375, sdt 16514.37, max 88431.5625, min 1680.7308349609375\n",
      "\n",
      "X shape = (1000000, 1)\n",
      "\n",
      "y shape = (1000000, 1)\n",
      "\n",
      "X:\n",
      "mean 645.0000610351562, sdt 320.43, max 1200.0, min 90.0\n",
      "\n",
      "y:\n",
      "mean 44248.37890625, sdt 16514.63, max 87176.59375, min 1902.614501953125\n",
      "[0.0010340213775634766, 0.0032987594604492188, 0.0005059242248535156, 0.0029838085174560547, 0.007141590118408203, 0.014066696166992188, 0.022812843322753906, 0.024138689041137695, 0.023064851760864258, 0.038579702377319336, 0.04098367691040039, 0.04433274269104004, 0.0515439510345459]\n"
     ]
    },
    {
     "data": {
      "image/png": "[encoded data removed]",
      "text/plain": [
       "<Figure size 576x576 with 1 Axes>"
      ]
     },
     "metadata": {
      "needs_background": "light"
     },
     "output_type": "display_data"
    },
    {
     "name": "stdout",
     "output_type": "stream",
     "text": [
      "Execution time = 0.05154395(s)\n"
     ]
    }
   ],
   "source": [
    "# Testing different values for N\n",
    "times = []\n",
    "size = (100, 1000, 10000, 100000, 200000, 300000, 400000, 500000, 600000, 700000, 800000, 900000,  1000000)\n",
    "for num in size:\n",
    "    X, y = get_housing_prices_data(N=num)\n",
    "    init = time.time()\n",
    "    w = normal_equation_weights(X, y)\n",
    "    prediction = normal_equation_prediction(X,w)\n",
    "    init = time.time() - init\n",
    "    times.append(init)\n",
    "    \n",
    "    \n",
    "print(times)\n",
    "\n",
    "plot_points_regression(size,\n",
    "                       times,\n",
    "                       title='Processing time for different number of samples',\n",
    "                       xlabel=\"N\",\n",
    "                       ylabel='Time (s)')\n",
    "print(\"Execution time = {:.8f}(s)\".format(init))\n"
   ]
  },
  {
   "cell_type": "markdown",
   "metadata": {},
   "source": [
    "## Exercise 2: Effect of the data dimension\n",
    "\n",
    "Test your code for data with $𝑑>1$. You can create your own dataset (if you do so, you can share the code by posting it to the moodle's Forum -- only the code for the dataset generation!). If you have no idea on how to generate such dataset, you can use existing datasets such as the \n",
    " one in scikit-learn https://scikit-learn.org/stable/modules/generated/sklearn.datasets.load_boston.html#sklearn.datasets.load_boston\n",
    "\n",
    "If you used an existing dataset or one generated by a colleague, please acknowledge the fact clearly. Thanks!"
   ]
  },
  {
   "cell_type": "code",
   "execution_count": 106,
   "metadata": {},
   "outputs": [
    {
     "name": "stdout",
     "output_type": "stream",
     "text": [
      "Data dimensions: N = 506 and d = 13\n",
      "Training data dimensions: X_train.shape: (404, 13) and y_train.shape: (404,)\n",
      "Test data dimensions: X_test.shape: (102, 13) and y_test.shape: (102,) \n",
      "\n",
      "Execution time = 0.00083160(s) \n",
      "\n",
      "Coefficient of determination for the ajusted linear model (test data): 0.5710505001178718 \n",
      "\n"
     ]
    },
    {
     "data": {
      "image/png": "[encoded data removed]",
      "text/plain": [
       "<Figure size 576x576 with 1 Axes>"
      ]
     },
     "metadata": {
      "needs_background": "light"
     },
     "output_type": "display_data"
    }
   ],
   "source": [
    "# Testing data with dimension  d > 1\n",
    "from sklearn.model_selection import train_test_split\n",
    "from matplotlib import pyplot as plt\n",
    "from sklearn import metrics\n",
    "\n",
    "#Using boston house prices dataset\n",
    "from sklearn.datasets import load_boston\n",
    "X, y = load_boston(return_X_y=True)\n",
    "print(\"Data dimensions: N =\", X.shape[0], \"and d =\", X.shape[1])\n",
    "\n",
    "#Spit data into training and testing (Holdou method)\n",
    "X_train, X_test, y_train, y_test = train_test_split(X, y, test_size=0.2)\n",
    "print(\"Training data dimensions:\", \"X_train.shape:\",X_train.shape,\"and y_train.shape:\", y_train.shape)\n",
    "print(\"Test data dimensions:\", \"X_test.shape:\",X_test.shape,\"and y_test.shape:\", y_test.shape, \"\\n\") \n",
    "\n",
    "#Fit training data to linear regression model while calculating processing \n",
    "init = time.time()\n",
    "w = normal_equation_weights(X_train, y_train)\n",
    "#Predict test data\n",
    "prediction = normal_equation_prediction(X_test,w)\n",
    "init = time.time() - init\n",
    "\n",
    "print(\"Execution time = {:.8f}(s)\".format(init), \"\\n\")\n",
    "\n",
    "#Calculating coefficient of determination for test data\n",
    "r_2 = r_squared(y_test, prediction_test)\n",
    "print(\"Coefficient of determination for the ajusted linear model (test data):\",r_2, \"\\n\")\n",
    "\n",
    "#Plot Test Predictions\n",
    "plot_points_regression(y_test,\n",
    "                       prediction,\n",
    "                       title='Test Data Predictions of Housing Prices',\n",
    "                       xlabel=\"True Values ($1000's)\",\n",
    "                       ylabel=\"Prediction ($1000's)\")\n",
    "\n",
    "# O coeficiente de determinação indica a proporção da variância da variável dependente (resposta),\n",
    "# nesse caso o preço do imóvel em milhares de dólares) que pode ser predita pelas variáveis\n",
    "# independentes."
   ]
  }
 ],
 "metadata": {
  "kernelspec": {
   "display_name": "Python 3",
   "language": "python",
   "name": "python3"
  },
  "language_info": {
   "codemirror_mode": {
    "name": "ipython",
    "version": 3
   },
   "file_extension": ".py",
   "mimetype": "text/x-python",
   "name": "python",
   "nbconvert_exporter": "python",
   "pygments_lexer": "ipython3",
   "version": "3.7.6"
  }
 },
 "nbformat": 4,
 "nbformat_minor": 2
}
