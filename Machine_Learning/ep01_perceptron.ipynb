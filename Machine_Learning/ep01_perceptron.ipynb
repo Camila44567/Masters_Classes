{
 "cells": [
  {
   "cell_type": "markdown",
   "metadata": {},
   "source": [
    "# MAC0460/MAC5832 (2020)\n",
    "## EP1 -- Perceptron: toy example\n",
    "\n",
    "Seja um conjunto de treinamento $X = \\{ (\\mathbf{x}^{(1)},y^{(1)}), (\\mathbf{x}^{(2)},y^{(2)}), \\ldots, (\\mathbf{x}^{(N)},y^{(N)})\\}$, $\\mathbf{x}^{(i)} \\in \\mathbb{R}^d$ e $y^{(i)} \\in \\{-1, +1\\}$, $i=1,2,\\ldots,N$, linearmente separáveis. Dado $\\mathbf{x} = (x_1, \\ldots, x_d)  \\in \\mathbb{R}^d$, seja $\\tilde{\\mathbf{x}} = (1, x_1, \\ldots, x_d) \\in \\mathbb{R}^{1+d}$.\n",
    "\n",
    "O perceptron determina um vetor de pesos $\\mathbf{w} \\in \\mathbb{R}^{1+d}$ de tal forma que $\\mathrm{sign}(\\mathbf{w}^T \\tilde{\\mathbf{x}}^{(i)}) = y^{(i)}$, $\\forall i$, na qual \n",
    "$$\n",
    "sign(z) = \\left\\{\\begin{array}{ll}+1, & \\mbox{se $z \\geq 0$,}\\\\ -1, & \\mbox{se $z < 0$.}\\\\\n",
    "\\end{array}\\right.\n",
    "$$\n",
    "\n",
    "O objetivo deste EP é implementar o algoritmo perceptron para dados em $\\mathbb{R}^2$ e testá-lo em casos com poucos exemplos. \n"
   ]
  },
  {
   "cell_type": "markdown",
   "metadata": {},
   "source": [
    "### 1. Gerar os pontos e uma target function\n",
    "- o dataset consistirá de alguns ($N$) pontos definidos a mão. Alungs desses pontos serão os vértices do quadrado $[0,1]\\times[0,1]$\n",
    "- definiremos uma reta $f(x_1,x_2) = w_0 + w_1\\,x_1 + w_2\\,x_2$ que corta o quadrado $[0,1]\\times [0,1]$\n",
    "- aqui vamos plotar esses pontos de tal forma que os pontos $(x_1,x_2)$ tais que $f(x_1,x_2) \\geq 0$ (<font color=\"blue\">positivo</font>) são plotados em <font color=\"blue\">azul</font> e os pontos $(x_1,x_2)$ tais que $f(x_1,x_2) < 0$ (<font color=\"red\">negativo</font>) são plotados em <font color=\"red\">vermelho</font>\n",
    "- a classe de cada um dos $N$ pontos será portanto dado pelo sinal de $f$ "
   ]
  },
  {
   "cell_type": "code",
   "execution_count": 4,
   "metadata": {},
   "outputs": [
    {
     "name": "stdout",
     "output_type": "stream",
     "text": [
      "Shape of array X:  (5, 2)\n",
      "Number of examples:  5\n",
      "Shape of array Xe:  (5, 3)\n",
      "Target weight array:  [ 0.5 -1.   1. ]\n",
      "Shape of array y:  (5,)\n",
      "['red', 'blue', 'blue', 'red', 'blue']\n",
      "[-1.  1.  1. -1.  1.]\n"
     ]
    },
    {
     "data": {
      "image/png": "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\n",
      "text/plain": [
       "<Figure size 432x288 with 1 Axes>"
      ]
     },
     "metadata": {
      "needs_background": "light"
     },
     "output_type": "display_data"
    }
   ],
   "source": [
    "import numpy as np\n",
    "import matplotlib.pyplot as plt\n",
    "%matplotlib inline\n",
    "\n",
    "X = np.asarray([[1.3, -0.2],[0,0],[0,1],[1,0],[1,1]])\n",
    "print(\"Shape of array X: \", X.shape)\n",
    "N = X.shape[0]\n",
    "print(\"Number of examples: \", N)\n",
    "\n",
    "# add a left column with 1's into X -- X extended\n",
    "Xe = np.hstack(( np.ones((X.shape[0],1)), X ) )\n",
    "print(\"Shape of array Xe: \", Xe.shape)\n",
    "\n",
    "# define a target weight vector\n",
    "w_target = np.asarray([0.5, -1, 1])\n",
    "print(\"Target weight array: \", w_target)\n",
    "\n",
    "# define y (class) values, based on the line defined by the target weight vector\n",
    "y = np.sign(np.dot(Xe, w_target)) #matrix multiplication (dot function)\n",
    "print(\"Shape of array y: \", y.shape)\n",
    "\n",
    "# Plotting ...\n",
    "\n",
    "# plot the line\n",
    "a = -w_target[1] / w_target[2] # slope  -- we will have trouble if w_target[2]=0 ...\n",
    "b = -w_target[0] / w_target[2] # intercept\n",
    "x_l = np.linspace(-1, 2, 50)\n",
    "y_l = a*x_l + b\n",
    "plt.plot(x_l, y_l);\n",
    "\n",
    "# Determine the colors of each of the examples\n",
    "colors = [\"blue\" if y[i]==1 else \"red\" for i in range(N)]\n",
    "print(colors)\n",
    "\n",
    "# plot the examples\n",
    "plt.scatter(X[:,0],X[:,1],c=colors);\n"
   ]
  },
  {
   "cell_type": "markdown",
   "metadata": {},
   "source": [
    "### Chutar uma hipótese inicial\n",
    "\n",
    "Aqui iremos considerar um peso inicial para a função linear que sabidamente não é a função target e iremos plotar um gráfico dos exemplos com a seguinte convenção:\n",
    "\n",
    "Cor indica o <i>ground-truth</i> (definido pela função target acima): <font color=\"blue\">positivo</font> e <font color=\"red\">negativo</font>  \n",
    "Formato do marcador:\n",
    "- o : classificados corretamente pela hipótese<br>\n",
    "- x : classificados incorretamente pela hipótese<br>\n"
   ]
  },
  {
   "cell_type": "code",
   "execution_count": 11,
   "metadata": {},
   "outputs": [
    {
     "data": {
      "image/png": "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\n",
      "text/plain": [
       "<Figure size 432x288 with 1 Axes>"
      ]
     },
     "metadata": {
      "needs_background": "light"
     },
     "output_type": "display_data"
    }
   ],
   "source": [
    "# Dada uma hipótese qualquer, se o sinal coincidir com o original,\n",
    "# desenha-se bola, se não coincidir, desenha-se x. A cor identifica\n",
    "# a classificação correta (ground-truth)\n",
    "\n",
    "# vetor de pesos inicial\n",
    "w0 = np.asarray([-0.5, 1 , 1])\n",
    "\n",
    "# calcular yhat\n",
    "yhat = np.sign(np.dot(Xe,w0))\n",
    "\n",
    "# misclassifications\n",
    "misclassified = np.where(y != yhat)[0]\n",
    "correct = np.where(y == yhat)[0]\n",
    "\n",
    "colors_o = [\"blue\" if y[i]==1 else \"red\" for i in correct]\n",
    "colors_x = [\"blue\" if y[i]==1 else \"red\" for i in misclassified]\n",
    "\n",
    "\n",
    "# plotting\n",
    "a = -w0[1] / w0[2] # slope\n",
    "b = -w0[0] / w0[2] # intercept\n",
    "x_l = np.linspace(-1, 2, 50)\n",
    "y_l = a*x_l + b\n",
    "plt.plot(x_l, y_l);\n",
    "\n",
    "plt.scatter(X[correct,0],X[correct,1],c=colors_o, marker='o');\n",
    "plt.scatter(X[misclassified,0],X[misclassified,1],c=colors_x, marker='x');\n",
    "\n"
   ]
  },
  {
   "cell_type": "markdown",
   "metadata": {},
   "source": [
    "# O algoritmo perceptron\n",
    "\n",
    "Escreva abaixo o seu código para o algoritmo PERCEPTRON. \n",
    "\n",
    "Escreva a função e em seguida teste a função com os dados X, y e w0 definidos nos blocos acima.  Faça ao menos um plot do resultado final (pontos e a reta final) seguindo as cores e marcas (x, o) de acordo com a convenção acima.\n",
    "\n",
    "<b>Opcional</b>: faça uma animação, mostrando como a reta vai mudando ao longo das iterações."
   ]
  },
  {
   "cell_type": "code",
   "execution_count": 63,
   "metadata": {},
   "outputs": [
    {
     "name": "stdout",
     "output_type": "stream",
     "text": [
      "w:  [ 0.5 -1.3  1.2]\n"
     ]
    },
    {
     "data": {
      "image/png": "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\n",
      "text/plain": [
       "<Figure size 432x288 with 1 Axes>"
      ]
     },
     "metadata": {
      "needs_background": "light"
     },
     "output_type": "display_data"
    }
   ],
   "source": [
    "def perceptron(Xe,y,w0):\n",
    "    \"\"\"\n",
    "    Parameters:\n",
    "       Xe : ndarray (N,d+1) - it already has the 1's in column 1\n",
    "       y  : ndarray (N,)\n",
    "       w0 : ndarray (d+1,) - the initial weight vector\n",
    "       \n",
    "    Returns:\n",
    "       w : ndarray (d+1,) - the final weight vector\n",
    "    \"\"\"\n",
    "    \n",
    "    # write your PERCEPTRON algorithm code here\n",
    "    \n",
    "    # calcular yhat\n",
    "    yhat = np.sign(np.dot(Xe,w0))\n",
    "    # misclassifications\n",
    "    misclassified = np.where(y != yhat)[0]\n",
    "    correct = np.where(y == yhat)[0]\n",
    "    \n",
    "    while misclassified.size!=0:\n",
    "        \n",
    "        # Update rule\n",
    "        w0 = w0 + y[misclassified[0]]*Xe[misclassified[0]]\n",
    "        \n",
    "        # calcular yhat\n",
    "        yhat = np.sign(np.dot(Xe,w0))\n",
    "        # misclassifications\n",
    "        misclassified = np.where(y != yhat)[0]\n",
    "        \n",
    "    return w0\n",
    "    \n",
    "# test your function for w0, X and y as defined above\n",
    "# Print the final weight vector and plot both the examples and\n",
    "# the separating line\n",
    "w = perceptron(Xe, y, w0)\n",
    "print(\"w: \", w)\n",
    "\n",
    "# misclassifications\n",
    "yhat = np.sign(np.dot(Xe,w))\n",
    "\n",
    "misclassified = np.where(y != yhat)[0]\n",
    "correct = np.where(y == yhat)[0]\n",
    "\n",
    "colors_o = [\"blue\" if y[i]==1 else \"red\" for i in correct]\n",
    "colors_x = [\"blue\" if y[i]==1 else \"red\" for i in misclassified]\n",
    "\n",
    "# plotting\n",
    "a = -w[1] / w[2] # slope\n",
    "b = -w[0] / w[2] # intercept\n",
    "x_l = np.linspace(-1, 2, 50)\n",
    "y_l = a*x_l + b\n",
    "plt.plot(x_l, y_l);\n",
    "\n",
    "plt.scatter(X[:,0],X[:,1],c=colors);\n"
   ]
  },
 ],
 "metadata": {
  "kernelspec": {
   "display_name": "Python 3",
   "language": "python",
   "name": "python3"
  },
  "language_info": {
   "codemirror_mode": {
    "name": "ipython",
    "version": 3
   },
   "file_extension": ".py",
   "mimetype": "text/x-python",
   "name": "python",
   "nbconvert_exporter": "python",
   "pygments_lexer": "ipython3",
   "version": "3.7.6"
  }
 },
 "nbformat": 4,
 "nbformat_minor": 2
}
